{
 "cells": [
  {
   "cell_type": "code",
   "execution_count": 2,
   "id": "a6a47383-f897-4c4d-8f8c-6fea4d4ff6b2",
   "metadata": {},
   "outputs": [],
   "source": [
    "#In this activity, you are tasked with creating a Python script \n",
    "#for analyzing the financial records of your company. \n",
    "#You will be provided with a financial dataset in this \n",
    "#file: [budget_data.csv](PyBank/Resources/budget_data.csv). \n",
    "#This dataset is composed of two columns, Date and Profit/Losses. \n",
    "#(Thankfully, your company has rather lax standards for accounting, so the records are simple.)\n",
    "\n",
    "#Your task is to create a Python script that analyzes the records to calculate each of the following:\n",
    "\n",
    "#* The total number of months included in the dataset.\n",
    "\n",
    "#* The net total amount of Profit/Losses over the entire period.\n",
    "\n",
    "#* The average of the changes in Profit/Losses over the entire period.\n",
    "\n",
    "#* The greatest increase in profits (date and amount) over the entire period.\n",
    "\n",
    "#* The greatest increase in profits (date and amount) over the entire period.\n",
    "#Your resulting analysis should look similar to the following:\n",
    "\n",
    "#```text\n",
    "  #Financial Analysis\n",
    "  #----------------------------\n",
    "  #Total Months: 86\n",
    "  #Total: $38382578\n",
    "  #Average  Change: $-2315.12\n",
    "  #Greatest Increase in Profits: Feb-2012 ($1926159)\n",
    "  #Greatest Decrease in Profits: Sep-2013 ($-2196167)\n",
    "  #```\n",
    "\n",
    "#Your final script should print the analysis to the terminal and export a text file with the results."
   ]
  },
  {
   "cell_type": "code",
   "execution_count": 3,
   "id": "ad36eaf0-c0ee-4a7e-ab23-96bb3acf227e",
   "metadata": {},
   "outputs": [
    {
     "data": {
      "text/plain": [
       "<bound method NDFrame.head of         Date  Profit/Losses\n",
       "0   Jan-2010         867884\n",
       "1   Feb-2010         984655\n",
       "2   Mar-2010         322013\n",
       "3   Apr-2010         -69417\n",
       "4   May-2010         310503\n",
       "..       ...            ...\n",
       "81  Oct-2016         102685\n",
       "82  Nov-2016         795914\n",
       "83  Dec-2016          60988\n",
       "84  Jan-2017         138230\n",
       "85  Feb-2017         671099\n",
       "\n",
       "[86 rows x 2 columns]>"
      ]
     },
     "execution_count": 3,
     "metadata": {},
     "output_type": "execute_result"
    }
   ],
   "source": [
    "import pandas as pd\n",
    "budget_data = (\"budget_data.csv\")\n",
    "budget_df = pd.read_csv(budget_data)\n",
    "budget_df.head"
   ]
  },
  {
   "cell_type": "code",
   "execution_count": 4,
   "id": "52eb60ef-e417-400a-b444-005a9125390d",
   "metadata": {},
   "outputs": [
    {
     "data": {
      "text/plain": [
       "Date             86\n",
       "Profit/Losses    86\n",
       "dtype: int64"
      ]
     },
     "execution_count": 4,
     "metadata": {},
     "output_type": "execute_result"
    }
   ],
   "source": [
    "#* The total number of months included in the dataset.\n",
    "budget_df.count()"
   ]
  },
  {
   "cell_type": "code",
   "execution_count": 5,
   "id": "55e22227-8707-45c9-b351-2113a1ba3fde",
   "metadata": {},
   "outputs": [
    {
     "data": {
      "text/plain": [
       "86"
      ]
     },
     "execution_count": 5,
     "metadata": {},
     "output_type": "execute_result"
    }
   ],
   "source": [
    "month_num=budget_df['Date'].value_counts().sum()\n",
    "month_num"
   ]
  },
  {
   "cell_type": "code",
   "execution_count": 6,
   "id": "404cdf92-9d0d-4ae9-8018-b2cd04b98b70",
   "metadata": {},
   "outputs": [
    {
     "name": "stdout",
     "output_type": "stream",
     "text": [
      "There are 86 months of data in the dataset.\n"
     ]
    }
   ],
   "source": [
    "print(\"There are \"+ str(month_num)+ \" months of data in the dataset.\")\n"
   ]
  },
  {
   "cell_type": "code",
   "execution_count": 7,
   "id": "c118601c-4085-46cb-9a5d-fd4a516cd937",
   "metadata": {},
   "outputs": [
    {
     "data": {
      "text/plain": [
       "38382578"
      ]
     },
     "execution_count": 7,
     "metadata": {},
     "output_type": "execute_result"
    }
   ],
   "source": [
    "#* The net total amount of Profit/Losses over the entire period.\n",
    "total = budget_df[\"Profit/Losses\"].sum()\n",
    "total"
   ]
  },
  {
   "cell_type": "code",
   "execution_count": 9,
   "id": "ab556905-3af9-4338-98d3-eefef0558995",
   "metadata": {},
   "outputs": [
    {
     "name": "stdout",
     "output_type": "stream",
     "text": [
      "The total amount of Profit/Losses over the entire period were 38382578.\n"
     ]
    }
   ],
   "source": [
    "print(\"The total amount of Profit/Losses over the entire period were \"+str(total)+\".\")"
   ]
  },
  {
   "cell_type": "code",
   "execution_count": 10,
   "id": "31697a05-1a57-40d2-b49f-3c125111b511",
   "metadata": {},
   "outputs": [
    {
     "data": {
      "text/plain": [
       "-0.28671102859649694"
      ]
     },
     "execution_count": 10,
     "metadata": {},
     "output_type": "execute_result"
    }
   ],
   "source": [
    "#* The average of the changes in Profit/Losses over the entire period\n",
    "change = budget_df[\"Profit/Losses\"].pct_change().dropna().mean()\n",
    "change"
   ]
  },
  {
   "cell_type": "code",
   "execution_count": 11,
   "id": "e1bf748a-22ae-4b71-9799-c102c004df84",
   "metadata": {},
   "outputs": [
    {
     "name": "stdout",
     "output_type": "stream",
     "text": [
      "The average percentage change in profit/losses over the period is -0.28671102859649694.\n"
     ]
    }
   ],
   "source": [
    "print(\"The average percentage change in profit/losses over the period is \"+ str(change)+\".\")"
   ]
  },
  {
   "cell_type": "code",
   "execution_count": 12,
   "id": "e52bd435-56d0-4fd1-98ab-ee746596f45c",
   "metadata": {},
   "outputs": [
    {
     "name": "stdout",
     "output_type": "stream",
     "text": [
      "The greatest profit during the period was 1170593.\n"
     ]
    }
   ],
   "source": [
    "#* The greatest increase in profits (date and amount) over the entire period.\n",
    "greatest_profit = budget_df[\"Profit/Losses\"].max()\n",
    "print(\"The greatest profit during the period was \"+str(greatest_profit)+\".\")"
   ]
  },
  {
   "cell_type": "code",
   "execution_count": 13,
   "id": "c5cb051e-a343-42c1-b946-9b4bcec63efc",
   "metadata": {},
   "outputs": [
    {
     "name": "stdout",
     "output_type": "stream",
     "text": [
      "The greatest Loss in the dataset is -1196225.\n"
     ]
    }
   ],
   "source": [
    "##The greatest decrease in losses (date and amount) over the entire period.\n",
    "greatest_loss = budget_df[\"Profit/Losses\"].min()\n",
    "print(\"The greatest Loss in the dataset is \"+str(greatest_loss)+\".\")"
   ]
  },
  {
   "cell_type": "code",
   "execution_count": 14,
   "id": "cf1d2db8-0b01-4514-9cca-d5fe3292dc50",
   "metadata": {},
   "outputs": [
    {
     "name": "stdout",
     "output_type": "stream",
     "text": [
      "Financial Analysis\n",
      "Total Months: 86\n",
      "Total Profit/Losses: 38382578\n",
      "Percentage Change: -0.28671102859649694\n",
      "Greatest Profit: 1170593\n",
      "Greatest Loss: -1196225\n"
     ]
    }
   ],
   "source": [
    "print(\"Financial Analysis\"\n",
    "    \"\\nTotal Months: \"+str(month_num)+\n",
    "    \"\\nTotal Profit/Losses: \"+str(total)+\n",
    "    \"\\nPercentage Change: \"+str(change)+\n",
    "    \"\\nGreatest Profit: \"+str(greatest_profit)+\n",
    "    \"\\nGreatest Loss: \"+str(greatest_loss)\n",
    ")"
   ]
  },
  {
   "cell_type": "code",
   "execution_count": 15,
   "id": "20bb3ab6-9385-4b8b-9533-a4fa4f89214a",
   "metadata": {},
   "outputs": [],
   "source": [
    "lines = [\"Total Months: 86\", \"\\nTotal Profit/Losses: 38382578\", \"\\nPercentage Change: -0.28671102859649694\", \"\\nGreatest Profit: 1170593\", \"\\nGreatest Loss: -1196225\" ]\n",
    "with open('output.txt', 'w') as f:\n",
    "    f.writelines(lines)"
   ]
  },
  {
   "cell_type": "code",
   "execution_count": null,
   "id": "43fd9db6-5088-4c57-ad19-7dcd45e60f4a",
   "metadata": {},
   "outputs": [],
   "source": []
  }
 ],
 "metadata": {
  "kernelspec": {
   "display_name": "Python 3 (ipykernel)",
   "language": "python",
   "name": "python3"
  },
  "language_info": {
   "codemirror_mode": {
    "name": "ipython",
    "version": 3
   },
   "file_extension": ".py",
   "mimetype": "text/x-python",
   "name": "python",
   "nbconvert_exporter": "python",
   "pygments_lexer": "ipython3",
   "version": "3.9.7"
  }
 },
 "nbformat": 4,
 "nbformat_minor": 5
}
